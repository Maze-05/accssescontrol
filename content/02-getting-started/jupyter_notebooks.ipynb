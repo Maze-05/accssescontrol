{
  "cells": [
    {
      "cell_type": "markdown",
      "metadata": {
        "id": "xSnvGCzzALDk"
      },
      "source": [
        "# Jupyter Notebooks"
      ]
    },
    {
      "cell_type": "code",
      "source": [
        "!pip install pytesseract\n",
        "!sudo apt install tesseract-ocr\n",
        "!sudo apt install libtesseract-dev"
      ],
      "metadata": {
        "colab": {
          "base_uri": "https://localhost:8080/"
        },
        "id": "qzhRviHCAOEH",
        "outputId": "c0d0b746-da31-4dea-8029-c6602b87314b"
      },
      "execution_count": 1,
      "outputs": [
        {
          "output_type": "stream",
          "name": "stdout",
          "text": [
            "Collecting pytesseract\n",
            "  Downloading pytesseract-0.3.13-py3-none-any.whl.metadata (11 kB)\n",
            "Requirement already satisfied: packaging>=21.3 in /usr/local/lib/python3.12/dist-packages (from pytesseract) (25.0)\n",
            "Requirement already satisfied: Pillow>=8.0.0 in /usr/local/lib/python3.12/dist-packages (from pytesseract) (11.3.0)\n",
            "Downloading pytesseract-0.3.13-py3-none-any.whl (14 kB)\n",
            "Installing collected packages: pytesseract\n",
            "Successfully installed pytesseract-0.3.13\n",
            "Reading package lists... Done\n",
            "Building dependency tree... Done\n",
            "Reading state information... Done\n",
            "tesseract-ocr is already the newest version (4.1.1-2.1build1).\n",
            "0 upgraded, 0 newly installed, 0 to remove and 41 not upgraded.\n",
            "Reading package lists... Done\n",
            "Building dependency tree... Done\n",
            "Reading state information... Done\n",
            "The following additional packages will be installed:\n",
            "  libarchive-dev libleptonica-dev\n",
            "The following NEW packages will be installed:\n",
            "  libarchive-dev libleptonica-dev libtesseract-dev\n",
            "0 upgraded, 3 newly installed, 0 to remove and 41 not upgraded.\n",
            "Need to get 3,743 kB of archives.\n",
            "After this operation, 16.0 MB of additional disk space will be used.\n",
            "Get:1 http://archive.ubuntu.com/ubuntu jammy-updates/main amd64 libarchive-dev amd64 3.6.0-1ubuntu1.5 [581 kB]\n",
            "Get:2 http://archive.ubuntu.com/ubuntu jammy/universe amd64 libleptonica-dev amd64 1.82.0-3build1 [1,562 kB]\n",
            "Get:3 http://archive.ubuntu.com/ubuntu jammy/universe amd64 libtesseract-dev amd64 4.1.1-2.1build1 [1,600 kB]\n",
            "Fetched 3,743 kB in 2s (2,472 kB/s)\n",
            "debconf: unable to initialize frontend: Dialog\n",
            "debconf: (No usable dialog-like program is installed, so the dialog based frontend cannot be used. at /usr/share/perl5/Debconf/FrontEnd/Dialog.pm line 78, <> line 3.)\n",
            "debconf: falling back to frontend: Readline\n",
            "debconf: unable to initialize frontend: Readline\n",
            "debconf: (This frontend requires a controlling tty.)\n",
            "debconf: falling back to frontend: Teletype\n",
            "dpkg-preconfigure: unable to re-open stdin: \n",
            "Selecting previously unselected package libarchive-dev:amd64.\n",
            "(Reading database ... 125079 files and directories currently installed.)\n",
            "Preparing to unpack .../libarchive-dev_3.6.0-1ubuntu1.5_amd64.deb ...\n",
            "Unpacking libarchive-dev:amd64 (3.6.0-1ubuntu1.5) ...\n",
            "Selecting previously unselected package libleptonica-dev.\n",
            "Preparing to unpack .../libleptonica-dev_1.82.0-3build1_amd64.deb ...\n",
            "Unpacking libleptonica-dev (1.82.0-3build1) ...\n",
            "Selecting previously unselected package libtesseract-dev:amd64.\n",
            "Preparing to unpack .../libtesseract-dev_4.1.1-2.1build1_amd64.deb ...\n",
            "Unpacking libtesseract-dev:amd64 (4.1.1-2.1build1) ...\n",
            "Setting up libleptonica-dev (1.82.0-3build1) ...\n",
            "Setting up libarchive-dev:amd64 (3.6.0-1ubuntu1.5) ...\n",
            "Setting up libtesseract-dev:amd64 (4.1.1-2.1build1) ...\n",
            "Processing triggers for man-db (2.10.2-1) ...\n"
          ]
        }
      ]
    },
    {
      "cell_type": "code",
      "source": [
        "pip install pyotp\n"
      ],
      "metadata": {
        "colab": {
          "base_uri": "https://localhost:8080/"
        },
        "id": "3NTotF6RBU-p",
        "outputId": "5a8b3749-0a7d-4336-b302-ddfaa05d6906"
      },
      "execution_count": 2,
      "outputs": [
        {
          "output_type": "stream",
          "name": "stdout",
          "text": [
            "Collecting pyotp\n",
            "  Downloading pyotp-2.9.0-py3-none-any.whl.metadata (9.8 kB)\n",
            "Downloading pyotp-2.9.0-py3-none-any.whl (13 kB)\n",
            "Installing collected packages: pyotp\n",
            "Successfully installed pyotp-2.9.0\n"
          ]
        }
      ]
    },
    {
      "cell_type": "code",
      "source": [
        "import pyotp\n",
        "import time\n",
        "# You would typically store the user's secret key in a database after initial setup.\n",
        "# For this example, we generate a random key once and use it.\n",
        "# NOTE: This key must be a base32 string and should be unique for each user.\n",
        "USER_SECRET_KEY = pyotp.random_base32()\n",
        "\n",
        "def check_knowledge_factor():\n",
        "    \"\"\"Simulates checking the 'Something You Know' (Password) factor.\"\"\"\n",
        "    print(\"\\n--- FACTOR 1: KNOWLEDGE (Password) ---\")\n",
        "\n",
        "    # In a real application, you'd compare a hash of the entered password\n",
        "    # with the stored password hash.\n",
        "    # For simulation, we'll use a fixed 'secret_password'.\n",
        "    secret_password = \"SecurePassword123\"\n",
        "\n",
        "    entered_password = input(\"Enter password: \")\n",
        "\n",
        "    if entered_password == secret_password:\n",
        "        print(\"✅ Password check successful.\")\n",
        "        return True\n",
        "    else:\n",
        "        print(\"❌ Password incorrect.\")\n",
        "        return False\n"
      ],
      "metadata": {
        "id": "WT4gsX2hEcrA"
      },
      "execution_count": 3,
      "outputs": []
    },
    {
      "cell_type": "code",
      "source": [
        "def check_possession_factor(user_secret_key):\n",
        "    \"\"\"\n",
        "    Simulates checking the 'Something You Have' (TOTP Code) factor.\n",
        "\n",
        "    :param user_secret_key: The user's unique base32 secret key for TOTP.\n",
        "    :return: True if the TOTP code is valid, False otherwise.\n",
        "    \"\"\"\n",
        "    print(\"\\n--- FACTOR 2: POSSESSION (Authenticator Code) ---\")\n",
        "\n",
        "    # 1. Create a TOTP object using the user's secret key\n",
        "    totp = pyotp.TOTP(user_secret_key)\n",
        "\n",
        "    # For demonstration: print the current code the server expects.\n",
        "    # In a real app, this is kept secret on the server.\n",
        "    # print(f\"(DEBUG: Current server-expected TOTP: {totp.now()})\")\n",
        "\n",
        "    # 2. Get user input for the TOTP code\n",
        "    entered_code = input(\"Enter the 6-digit TOTP code: \")\n",
        "\n",
        "    # 3. Logic to validate the user's code against the current (and recent) TOTP\n",
        "    # The 'verify' method checks the current time-step and optionally a window\n",
        "    # around it to account for slight clock skew (valid_window=1 checks the code\n",
        "    # generated 30s ago, 'now', and 30s in the future).\n",
        "    if totp.verify(entered_code, valid_window=1):\n",
        "        print(\"✅ TOTP Code check successful.\")\n",
        "        return True\n",
        "    else:\n",
        "        print(\"❌ TOTP Code incorrect.\")\n",
        "        return False\n"
      ],
      "metadata": {
        "id": "LAB85IeJEln2"
      },
      "execution_count": 4,
      "outputs": []
    },
    {
      "cell_type": "code",
      "source": [
        "# Part 2: 2FA Function\n",
        "def two_factor_authentication(user_secret_key):\n",
        "    \"\"\"\n",
        "    The main function to perform two-factor authentication.\n",
        "\n",
        "    :param user_secret_key: The user's unique base32 secret key for TOTP.\n",
        "    :return: True if both factors are successful, False otherwise.\n",
        "    \"\"\"\n",
        "    print(\"\\n--- Starting Two-Factor Authentication Process ---\")\n",
        "\n",
        "    # Step 1: Check the first factor (Knowledge)\n",
        "    password_ok = check_knowledge_factor()\n",
        "\n",
        "    # Only proceed to the second factor if the first was successful\n",
        "    if password_ok:\n",
        "        print(\"\\nProceeding to second factor...\")\n",
        "        # Step 2: Check the second factor (Possession)\n",
        "        totp_ok = check_possession_factor(user_secret_key)\n",
        "\n",
        "        if totp_ok:\n",
        "            print(\"\\n🎉 2FA SUCCESSFUL! Access Granted.\")\n",
        "            return True\n",
        "        else:\n",
        "            print(\"\\n🛑 2FA FAILED: Possession factor failed.\")\n",
        "            return False\n",
        "    else:\n",
        "        print(\"\\n🛑 2FA FAILED: Knowledge factor failed.\")\n",
        "        return False\n",
        "\n",
        "# --- Main execution block ---\n",
        "\n",
        "# Setup: Generate QR Code URI for a user to scan with an authenticator app (like Google Authenticator)\n",
        "# The user_id and app_name would typically be dynamic.\n",
        "uri = pyotp.totp.TOTP(USER_SECRET_KEY).provisioning_uri(\n",
        "    name='user@example.com',\n",
        "    issuer_name='SecureAppDemo'\n",
        ")\n",
        "\n",
        "# You would display this URI as a QR Code to the user for initial setup.\n",
        "print(\"\\n--- Initial Setup (Simulated) ---\")\n",
        "print(\"New User Secret Key (for their authenticator app):\", USER_SECRET_KEY)\n",
        "print(f\"Provisioning URI (to generate QR Code): {uri}\")\n",
        "print(\"Please use an authenticator app (like Google Authenticator or Authy) to scan a QR Code generated from the URI above.\")\n",
        "print(\"The code will refresh every 30 seconds.\")\n",
        "print(\"-\" * 40)\n",
        "\n",
        "\n",
        "# Run the 2FA function\n",
        "if __name__ == \"__main__\":\n",
        "    # Wait a moment to allow the user to check their authenticator app after seeing the key/URI\n",
        "    time.sleep(1)\n",
        "\n",
        "    authentication_result = two_factor_authentication(USER_SECRET_KEY)\n",
        "\n",
        "    print(\"\\nFinal Authentication Status:\", \"GRANTED\" if authentication_result else \"DENIED\")"
      ],
      "metadata": {
        "colab": {
          "base_uri": "https://localhost:8080/"
        },
        "id": "RGKIa-HKEvuV",
        "outputId": "00bae828-0487-423d-ee36-30144c1aa2ec"
      },
      "execution_count": 5,
      "outputs": [
        {
          "output_type": "stream",
          "name": "stdout",
          "text": [
            "\n",
            "--- Initial Setup (Simulated) ---\n",
            "New User Secret Key (for their authenticator app): VBFGG4JDIM4GNKDL4GW4VEAHTCEKVHTG\n",
            "Provisioning URI (to generate QR Code): otpauth://totp/SecureAppDemo:user%40example.com?secret=VBFGG4JDIM4GNKDL4GW4VEAHTCEKVHTG&issuer=SecureAppDemo\n",
            "Please use an authenticator app (like Google Authenticator or Authy) to scan a QR Code generated from the URI above.\n",
            "The code will refresh every 30 seconds.\n",
            "----------------------------------------\n",
            "\n",
            "--- Starting Two-Factor Authentication Process ---\n",
            "\n",
            "--- FACTOR 1: KNOWLEDGE (Password) ---\n",
            "Enter password: SecurePassword123\n",
            "✅ Password check successful.\n",
            "\n",
            "Proceeding to second factor...\n",
            "\n",
            "--- FACTOR 2: POSSESSION (Authenticator Code) ---\n",
            "Enter the 6-digit TOTP code: 123456\n",
            "❌ TOTP Code incorrect.\n",
            "\n",
            "🛑 2FA FAILED: Possession factor failed.\n",
            "\n",
            "Final Authentication Status: DENIED\n"
          ]
        }
      ]
    },
    {
      "cell_type": "markdown",
      "metadata": {
        "id": "TqnK6wYLALDn"
      },
      "source": [
        "In this chapter, we'll cover Jupyter Notebooks, including how to write and execute code and how to write text in the **Markdown** format. We'll also discuss what the kernel is, so that you understand generally how Jupyter Notebooks work."
      ]
    },
    {
      "cell_type": "markdown",
      "metadata": {
        "id": "zYtI7EOSALDo"
      },
      "source": [
        "<div class=\"alert alert-success\">\n",
        "Jupyter notebooks are a way to combine executable code, code outputs, and text into one connected file.\n",
        "</div>\n",
        "\n",
        "<div class=\"alert alert-info\">\n",
        "The official documentation from project Jupyter is available\n",
        "<a href=\"https://jupyter-notebook.readthedocs.io/en/stable/\" class=\"alert-link\">here</a>\n",
        "and they also have some example notebooks\n",
        "<a href=\"https://github.com/jupyter/notebook/tree/master/docs/source/examples/Notebook\" class=\"alert-link\">here</a>\n",
        ".\n",
        "</div>"
      ]
    },
    {
      "cell_type": "markdown",
      "metadata": {
        "id": "8ECnl8WWALDo"
      },
      "source": [
        "## Menu Options & Shortcuts\n",
        "\n",
        "To get a quick tour of the Jupyter user-interface, click on the 'Help' menu, then click 'User Interface Tour'.\n",
        "\n",
        "There are also a large number of useful keyboard shortcuts. Click on the 'Help' menu, and then 'Keyboard Shortcuts' to see a list."
      ]
    },
    {
      "cell_type": "markdown",
      "metadata": {
        "id": "-j5guR_OALDp"
      },
      "source": [
        "## Cells"
      ]
    },
    {
      "cell_type": "markdown",
      "metadata": {
        "id": "m3f2_brMALDp"
      },
      "source": [
        "<div class=\"alert alert-success\">\n",
        "    The main organizational structure of the notebook are <b> cells </b>.\n",
        "</div>"
      ]
    },
    {
      "cell_type": "markdown",
      "metadata": {
        "id": "aFtAmod-ALDp"
      },
      "source": [
        "**Cells** are an independent 'unit'. When you click into a cell, you can 'run' it by clicking Shift + Enter, or by pressing the play (Run) button at the top of your notebook.\n",
        "\n",
        "Cells come in different types for writing different things - mainly, text or code."
      ]
    },
    {
      "cell_type": "markdown",
      "metadata": {
        "id": "MUdfosSUALDp"
      },
      "source": [
        "### Markdown Cells\n",
        "\n",
        "Cells, can be plain text. In this book, for chapters where code is included, any place you see text - meaning places were we aren'twriting and executing code  - will be written in **Markdown**.\n",
        "\n",
        "Markdown is a way to specify all the text formatting you see within the text itself."
      ]
    },
    {
      "cell_type": "markdown",
      "metadata": {
        "id": "RaPXwBifALDq"
      },
      "source": [
        "#### _Italics_ & __Bold__\n",
        "\n",
        "For example, *italicized text* can be specified with an \\_underscore\\_ or \\*single asterisks\\*. So, using markdown formatting, that text would appear as follows:\n",
        "\n",
        "For example, italicized text can be specified with an _underscore_ or *single asterisks*.\n",
        "\n",
        "**Bold text** requires \\_\\_two underccores\\_\\_ or \\*\\*two asterisks\\*\\* surrounding the text you would like to bold. Using Markdown formatting, that text would look like this:\n",
        "\n",
        "**Bold text** requires __two underccores__ or **two asterisks** surrounding the text you would like to bold.\n",
        "\n"
      ]
    },
    {
      "cell_type": "markdown",
      "metadata": {
        "id": "XkXw2z0lALDq"
      },
      "source": [
        "#### Headers\n",
        "\n",
        "There are a number of different size header you can use with Markdown formatting. The number of pound signs preceeding the header specifies the size of the header.\n",
        "\n",
        "For example, the following:\n",
        "\n",
        "```\n",
        "# Headers are specified with a pound sign\n",
        "## The more pound signs, the smaller the header\n",
        "#### But it's still larger\n",
        "than just plain text.\n",
        "```\n",
        "\n",
        "would appear as follows using Markdown formatting:\n",
        "\n",
        "\n",
        "## Headers are specified with a pound sign\n",
        "\n",
        "### The more pound signs, the smaller the header\n",
        "\n",
        "#### But it's still larger\n",
        "\n",
        "than just plain text.\n",
        "\n",
        "---\n",
        "\n",
        "Note that to specify text for a header. the pound sign is followed by a space before the text for the header. The largest header -- specified by 1 pound sign -- is referred to as an H1 header. The second largest, H2, and so on and so forth."
      ]
    },
    {
      "cell_type": "markdown",
      "metadata": {
        "id": "Xf_mx6A8ALDq"
      },
      "source": [
        "#### Lists\n",
        "\n",
        "Finally, **lists** are also possible with Markdown formatting. Ordered lists are specified with a number, followed by a decimal point, followed by a space and then the text for the list. For example, the following:\n",
        "\n",
        "```\n",
        "1. numbered item\n",
        "2. item 2\n",
        "3. item 3\n",
        "```\n",
        "\n",
        "would appear as follows with Markdown formatting:\n",
        "\n",
        "1. numbered item\n",
        "2. item 2\n",
        "3. item 3\n",
        "\n",
        "Bulleted or unordered lists are also possible. these are specified by either a dash (`-`) or an asterisk (`*`) instead of the number and decimal point.\n",
        "\n",
        "For example, either of the following:\n",
        "\n",
        "```\n",
        "- item 1\n",
        "- item 2\n",
        "- item 3\n",
        "```\n",
        "\n",
        "or\n",
        "\n",
        "```\n",
        "* item 1\n",
        "* item 2\n",
        "* item 3\n",
        "```\n",
        "\n",
        "would appear as follows with Markdown formatting:\n",
        "\n",
        "- item 1\n",
        "- item 2\n",
        "- item 3"
      ]
    },
    {
      "cell_type": "markdown",
      "metadata": {
        "id": "zWByr3N2ALDr"
      },
      "source": [
        "### Code Cells\n",
        "\n",
        "Markdown is really helpful when you want to share text within a Jupyter notebook; however, you're here to learn to program. So let's start talking about code! Whenever you're writing code, you'll want to be sure the cell is set to be a code cell. Within a Jupyter notebook, whenever a cell is selected, you can look at the menu across the top. The drop-down menu will specify what type of cell you're working with.\n",
        "\n",
        "Here, we see an example of what you would see for a Markdown cell.\n",
        "\n",
        "![Markdown cell specified along toolbar](https://github.com/shanellis/pythonbook/blob/master/content/images/01-intro/markdown_cell.png?raw=1)\n",
        "\n",
        "To change this cell to a code cell, you would select \"Code\" from the drop-down menu. You'd then be able to write and execute code from the cell!\n",
        "\n",
        "![Code selected from drop-down menu](https://github.com/shanellis/pythonbook/blob/master/content/images/01-intro/code_cell.png?raw=1)"
      ]
    },
    {
      "cell_type": "markdown",
      "metadata": {
        "id": "kfNCYhF3ALDr"
      },
      "source": [
        "The next cell is an example of a code cell. The first line in that cell is a **comment**. Comments are ignored by the computer and are there to help humans reading the code understand what's going on. Comments always start with a pound sign. Note that a pound sign in a Markdown cell indicates something different (a header) than it does in a code cell (a comment).\n",
        "\n",
        "The second and third line in the example below are lines of Python code! Here we're assigning information to two variables: `a` and `b`. We'll talk all about variable assignment in the next chapter."
      ]
    },
    {
      "cell_type": "code",
      "execution_count": null,
      "metadata": {
        "id": "aVxh28cXALDr"
      },
      "outputs": [],
      "source": [
        "# Cell can also be code.\n",
        "a = 1\n",
        "b = 2"
      ]
    },
    {
      "cell_type": "markdown",
      "metadata": {
        "id": "14We22wrALDs"
      },
      "source": [
        "#### Running Code\n",
        "\n",
        "What's important to know now is that Jupyter notebooks don't *just* allow you to write code. You can also **execute the code**. Nothing happens until you execute (or \"run\") code.\n",
        "\n",
        "For example, in the first cell above, that code was typed but never executed. We know that it wasn't executed because to the left of the cell we see `In [ ]:`.\n",
        "\n",
        "![Code cell not yet executed](https://github.com/shanellis/pythonbook/blob/master/content/images/01-intro/not_executed.png?raw=1)\n",
        "\n",
        "The empty brackets suggested that this code has not yet been executed.\n",
        "\n",
        "Once executed, a number will show up within those brackets:\n",
        "\n",
        "![Code cell not yet executed](https://github.com/shanellis/pythonbook/blob/master/content/images/01-intro/executed_code.png?raw=1)\n",
        "\n",
        "The first code cell you run in a Jupyter notebook will have a `[1]`. The second a `[2]` and so on and so forth.\n",
        "\n",
        "To execute a cell, you can click on the cell you'd like to run and click \"Run\" along the toolbar at the top. Or, more likely, you'll want to get in the habit of using hte keyboard shortcut `Shift + Enter` to run your cells. note that `Shift + Enter` will run code cells *and* format Markdown cells.\n",
        "\n",
        "One important caveat is that if you ever see a `[*]`. to to the left of your code cell, this indicates that the cell is still running. This cann happen if you write code that takes a while to run *or* if you've written code that will run forever (such as an infinite loop).\n",
        "\n",
        "If this happens and you do *not* want to allow the code to continue to execute (for example, you have an infinite loop and want the code to stop from running, you can click on the square stop icon from the toolbar at the top.\n",
        "\n",
        "![Stop code cell from executing](https://github.com/shanellis/pythonbook/blob/master/content/images/01-intro/stop.png?raw=1)\n",
        "\n",
        "Upon executing the code in a cell, often, there will be some sort of output. The code below says subtract 2 (the value stored in `b`) from 1 (the value stored in `a`) and store that in the variable `c`. Then, the final line here says, print that value out to the screen."
      ]
    },
    {
      "cell_type": "code",
      "execution_count": null,
      "metadata": {
        "scrolled": true,
        "id": "sW9vqWlJALDs",
        "outputId": "fc1ad3cd-e25e-4669-f3cd-9bcdea49c1c6"
      },
      "outputs": [
        {
          "name": "stdout",
          "output_type": "stream",
          "text": [
            "-1\n"
          ]
        }
      ],
      "source": [
        "# Cells can also have output, that gets printed out below the cell.\n",
        "c = a - b\n",
        "print(c)"
      ]
    },
    {
      "cell_type": "markdown",
      "metadata": {
        "id": "yjfJVZgcALDt"
      },
      "source": [
        "What you see above is why notebooks are so great! They allow explanatory text, python code, *and* the outputs from that code to intermingle in a single document!\n",
        "\n",
        "Before we move on, one more piece of information about Jupyter notebooks in particular. If the last line of code in a code cell is a variable name, the Jupyter notebook, will print the contents of that varaible to your screen, without you having to put `print()` around it. We'll use this a bunch throughout the book, so it's worth noting now, even though we haven't *exactly* covered what variables are...yet!"
      ]
    },
    {
      "cell_type": "code",
      "execution_count": null,
      "metadata": {
        "id": "GuszTMgrALDt",
        "outputId": "2e2a7a24-07bc-42e0-c2fe-0e7a03ec1fff"
      },
      "outputs": [
        {
          "data": {
            "text/plain": [
              "-1"
            ]
          },
          "execution_count": 3,
          "metadata": {},
          "output_type": "execute_result"
        }
      ],
      "source": [
        "# if variable last thing in cell\n",
        "# output will be variable conents\n",
        "c"
      ]
    },
    {
      "cell_type": "markdown",
      "metadata": {
        "id": "mxqoQiNpALDt"
      },
      "source": [
        "#### Cell Order\n",
        "\n",
        "Ok, so we've discussed that the numbers in the square brackets to the left of a cell show which cells have been run, and in what order and that an asterisk (`*`) means that the cell is currently running. What we haven't yet discussed is that the order in which the cells are run does ***not*** matter to Python or Jupyter notebooks.\n",
        "\n",
        "This allows you to flexibly test and develop code. For example, say you've run a few cells of code in order from top to bottom. Then, you realize you wanted a different value in that first code cell. You can go back to that first cell, change it to be the value you want, and then return back to a different cell. Python and Jupyter Notebooks will keep track of whatever was run most recently.\n",
        "\n",
        "For beginners and individuals less familiar with working in notebooks, this can sometimes take a bit to get used to, but the benefits of this flexibility outweigh the cognitive load it takes to remember that the order isn't set in stone to go from top to bottom."
      ]
    },
    {
      "cell_type": "markdown",
      "metadata": {
        "id": "S-A31ZxxALDt"
      },
      "source": [
        "## Accessing Documentation\n",
        "\n",
        "When you're new to Python (or any programming language), knowing where to look for more information is critical. While Google and StackOverflow will likely be very helpful, Python and Jupyter Notebooks have built-in ways for you to access documentation that will provide you with helpful information."
      ]
    },
    {
      "cell_type": "markdown",
      "metadata": {
        "id": "kMUiNFpKALDu"
      },
      "source": [
        "<div class=\"alert alert-success\">\n",
        "Jupyter has useful shortcuts. Add a single '?' after a function or class get a window with the documentation, or a double '??' to pull up the source code.\n",
        "</div>"
      ]
    },
    {
      "cell_type": "code",
      "execution_count": null,
      "metadata": {
        "id": "auUIHTGjALDu"
      },
      "outputs": [],
      "source": [
        "# For example, execute this cell to see the documentation for the 'abs'\n",
        "abs?"
      ]
    },
    {
      "cell_type": "markdown",
      "metadata": {
        "id": "P7glon31ALDu"
      },
      "source": [
        "## Autocomplete"
      ]
    },
    {
      "cell_type": "markdown",
      "metadata": {
        "id": "ZD0cfRguALDu"
      },
      "source": [
        "<div class=\"alert alert-success\">\n",
        "Jupyter also has\n",
        "<a href=\"https://en.wikipedia.org/wiki/Command-line_completion\" class=\"alert-link\">tab complete</a>\n",
        "capacities, which can autocomplete what you are typing, and/or be used to explore what code is available.  \n",
        "</div>"
      ]
    },
    {
      "cell_type": "code",
      "execution_count": null,
      "metadata": {
        "id": "WodJsgEfALDu"
      },
      "outputs": [],
      "source": [
        "# Move your cursor to the end of the line, press tab, and a drop menu will appear showing all possible completions\n",
        "ra"
      ]
    },
    {
      "cell_type": "code",
      "execution_count": null,
      "metadata": {
        "id": "ymKTxcPMALDv"
      },
      "outputs": [],
      "source": [
        "# If there is only one option, tab-complete will auto-complete what you are typing\n",
        "ran"
      ]
    },
    {
      "cell_type": "markdown",
      "metadata": {
        "id": "348emkeOALDv"
      },
      "source": [
        "## Web Browser"
      ]
    },
    {
      "cell_type": "markdown",
      "metadata": {
        "id": "Fvggl2oUALDv"
      },
      "source": [
        "<div class=\"alert alert-success\">\n",
        "Jupyter notebooks display in a web browser. They are not hosted on the web, everything is happening locally.\n",
        "</div>"
      ]
    },
    {
      "cell_type": "markdown",
      "metadata": {
        "id": "dj5U9-5fALDv"
      },
      "source": [
        "If you click on the url in the browser, you will notice it says 'localhost'. This means it is connected to something locally, on your computer.\n",
        "\n",
        "That local connection is to the 'kernel'."
      ]
    },
    {
      "cell_type": "markdown",
      "metadata": {
        "id": "Uy1uDL83ALDv"
      },
      "source": [
        "## Kernels"
      ]
    },
    {
      "cell_type": "markdown",
      "metadata": {
        "id": "dYVgzQZeALDw"
      },
      "source": [
        "<div class=\"alert alert-success\">\n",
        "The 'kernel' is the thing that executes your code. It is what connects the notebook (as you see it) with the part of your computer that runs code.\n",
        "</div>"
      ]
    },
    {
      "cell_type": "markdown",
      "metadata": {
        "id": "hvpINRDsALDw"
      },
      "source": [
        "Your kernel also stores your **namespace** - all the variables and code that you have declared (executed).\n",
        "\n",
        "It can be useful to clear and re-launch the kernel. You can do this from the 'kernel' drop down menu, at the top, optionally also clearing all ouputs. Note that this will erase any variables that are stored in memory."
      ]
    },
    {
      "cell_type": "markdown",
      "metadata": {
        "id": "vMFxJnw9ALDw"
      },
      "source": [
        "<div class=\"alert alert-info\">\n",
        "For more useful information, check out Jupyter Notebooks\n",
        "<a href=\"https://www.dataquest.io/blog/jupyter-notebook-tips-tricks-shortcuts/\" class=\"alert-link\">tips & tricks</a>\n",
        ", and more information on how\n",
        "<a href=\"http://jupyter.readthedocs.io/en/latest/architecture/how_jupyter_ipython_work.html\" class=\"alert-link\">notebooks work</a>.\n",
        "</div>"
      ]
    },
    {
      "cell_type": "markdown",
      "metadata": {
        "id": "FaZ85oJPALDw"
      },
      "source": [
        "## Exercises\n",
        "\n",
        "Q1. **What does three underscores around text accomplish?**  \n",
        "\n",
        "A) bold  \n",
        "B) italicize  \n",
        "C) bold + italicize  \n",
        "D) plain text    \n",
        "\n",
        "\n",
        "Q2. **Add a cell to a notebook, change it to be a Markdown cell, and add your name as (1) plain text, (2) italicized text, and (3) bold text.**\n",
        "  \n",
        "\n",
        "Q3. **What would happen if I specified a numbered list but put the same number before each list item?**  \n",
        "\n",
        "A) the list would have the same number before each item  \n",
        "B) markdown would still format it with sequential numbers  \n",
        "C) markdown wouldn't know it was a list  \n",
        "D) normal text with everything on a single line  \n",
        "\n",
        "\n",
        "Q4. **Write code in a code cell and execute it so that the value returned from the cell is '6'.**\n",
        "\n",
        "\n",
        "Q5. **If the following were in a code cell, what would be the output of the following?**\n",
        "\n",
        "```python\n",
        "a = 1\n",
        "b = 2\n",
        "c = 3\n",
        "print(a + b + c)\n",
        "```\n",
        "  \n",
        "Q6. **If the following were in a code cell, what would be the output of the following?**\n",
        "\n",
        "```python\n",
        "a = 1\n",
        "b = 2\n",
        "c = 3\n",
        "a + b + c\n",
        "```\n",
        "  \n",
        "Q7. **If the following were in a code cell, what would be the output of the following?**\n",
        "\n",
        "```python\n",
        "a = 1\n",
        "b = 2\n",
        "c = 3\n",
        "```"
      ]
    }
  ],
  "metadata": {
    "kernelspec": {
      "display_name": "Python 3",
      "language": "python",
      "name": "python3"
    },
    "language_info": {
      "codemirror_mode": {
        "name": "ipython",
        "version": 3
      },
      "file_extension": ".py",
      "mimetype": "text/x-python",
      "name": "python",
      "nbconvert_exporter": "python",
      "pygments_lexer": "ipython3",
      "version": "3.7.0"
    },
    "colab": {
      "provenance": []
    }
  },
  "nbformat": 4,
  "nbformat_minor": 0
}